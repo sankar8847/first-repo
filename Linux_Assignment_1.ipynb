{
  "nbformat": 4,
  "nbformat_minor": 0,
  "metadata": {
    "colab": {
      "provenance": [],
      "authorship_tag": "ABX9TyMAe37/bjY31v47M7GPXtCO",
      "include_colab_link": true
    },
    "kernelspec": {
      "name": "python3",
      "display_name": "Python 3"
    },
    "language_info": {
      "name": "python"
    }
  },
  "cells": [
    {
      "cell_type": "markdown",
      "metadata": {
        "id": "view-in-github",
        "colab_type": "text"
      },
      "source": [
        "<a href=\"https://colab.research.google.com/github/sankar8847/first-repo/blob/main/Linux_Assignment_1.ipynb\" target=\"_parent\"><img src=\"https://colab.research.google.com/assets/colab-badge.svg\" alt=\"Open In Colab\"/></a>"
      ]
    },
    {
      "cell_type": "markdown",
      "source": [
        "##1. What is Linux?\n",
        "\n",
        "Linux is an open-source operating system kernel. The kernel is the core component of an OS that manages the computer's hardware and resources, like the CPU, memory, and devices.\n",
        "\n",
        "##2. What is the difference between Hard Link & Soft Link?\n",
        "\n",
        "Both hard links and soft links are ways to create references to files, but they work very differently. A soft link is like a shortcut it's a separate file that simply points to the path of the original file. A hard link is a direct reference to the data on the disk.\n",
        "Command for hard link is -  \n",
        "\n",
        "    ln <original_file> <link_name>\n",
        "\n",
        "Adn command for soft link is -\n",
        "\n",
        "    ln -s <original_file> <link_name>\n",
        "\n",
        "\n",
        "##3. What is a Kernel?\n",
        "\n",
        "The kernel is the central, most fundamental part of an operating system. It acts as the main bridge between the computer's hardware (CPU, memory, storage) and the software applications you run.\n",
        "\n",
        "Its main jobs are:\n",
        "\n",
        " - Process Management: Deciding which programs get to use the CPU and for how long.\n",
        " - Memory Management: Allocating and keeping track of system memory (RAM).\n",
        " - Device Management: Communicating with hardware devices through drivers.\n",
        " - System Calls: Handling requests from software to perform hardware functions.\n",
        "\n"
      ],
      "metadata": {
        "id": "THeRu8P-Vnnu"
      }
    },
    {
      "cell_type": "code",
      "source": [
        "# 4. How do you create a user account?\n",
        "\n",
        "'''\n",
        "To create a user account in Linux using the command line. The two main steps are:\n",
        "\n",
        "    1. Create the user with the useradd or adduser command. adduser is often more user-friendly as it's interactive.\n",
        "'''\n",
        "\n",
        "        sudo useradd <username>\n",
        "\n",
        "'''\n",
        "    2. Set a password for the new user. The account is locked until a password is set.\n",
        "'''\n",
        "\n",
        "        sudo passwd <username>\n",
        "\n",
        "\n"
      ],
      "metadata": {
        "id": "BY7l9xGsYFBk"
      },
      "execution_count": null,
      "outputs": []
    },
    {
      "cell_type": "markdown",
      "source": [
        "##5. What is the 'grep' command used for in Linux?\n",
        "\n",
        "The grep (Global Regular Expression Print) command is a command-line utility used for searching plain-text data sets for lines that match a regular expression or a specific pattern. Its primary function is to filter input, displaying only the lines that contain the specified pattern.\n",
        "\n",
        "###6. -Step 1: Create user p1.\n",
        "\n",
        "    sudo useradd p1\n",
        "\n",
        "### -Step 2: He should be part of 3 groups g1, g2, g3.\n",
        "\n",
        "First, create the groups if they don't already exist:\n",
        "\n",
        "    sudo groupadd g1\n",
        "    sudo groupadd g2\n",
        "    sudo groupadd g3\n",
        "\n",
        "Next, add the user p1 to these three supplementary groups. The -aG flag appends the user to the new groups without removing them from their current primary group.\n",
        "\n",
        "    sudo usermod -aG g1,g2,g3 p1\n",
        "\n",
        "### -Step 3: Whenever he creates a file automatically in the group section of file grp g1 should come.\n",
        "\n",
        "This requires changing p1's primary group to g1. You do this with the lowercase -g flag.\n",
        "\n",
        "    sudo usermod -g g1 p1\n",
        "\n",
        "###7. -Step 1: Create directory /tmp/bg as root user and create files inside it.\n",
        "\n",
        "    # Create the directory\n",
        "    sudo mkdir /tmp/bg\n",
        "\n",
        "    # Create some empty files inside it\n",
        "    sudo touch /tmp/bg/file1.txt /tmp/bg/report.doc\n",
        "\n",
        "### -Step 2: “abhi” should be the owner of the directory. He should be able to create files and delete files inside the directory and also he should be able to add content to all files inside the directory.\n",
        "\n",
        "First, ensure the user abhi exists. If not, create them:\n",
        "\n",
        "    sudo useradd abhi\n",
        "\n",
        "Next, change the owner of the directory and all its contents to ubhi. The -R (recursive) flag is essential to apply the change to the files inside the directory as well.\n",
        "\n",
        "    sudo chown -R abhi /tmp/bg\n",
        "\n",
        "##8. You suspect that a particular process is consuming excessive CPU resources on your Linux server. How would you identify and terminate this process?\n",
        "\n",
        "The process of identifying and terminating a process consuming excessive CPU resources on a Linux server involves two main stages: identification and termination.\n",
        "\n",
        "1. Identification:\n",
        "\n",
        "The most common method to identify a resource-intensive process is by using the top command-line utility.\n",
        "\n",
        "- Execute the top command in the terminal.\n",
        "\n",
        "      top\n",
        "\n",
        "- top displays a real-time, dynamic list of running processes. This list can be sorted by CPU consumption by pressing P (Shift + P).\n",
        "\n",
        "- The process at the top of the list will be the one with the highest CPU usage. From its entry, note the value in the PID (Process ID) column. This PID is the unique identifier for that process.\n",
        "\n",
        "2. Termination:\n",
        "\n",
        "Once the PID of the offending process has been identified, the kill command is used to terminate it.\n",
        "\n",
        "- Graceful Termination (SIGTERM): It is best practice to first attempt a graceful termination. This sends signal 15 (SIGTERM), which requests that the process shut down cleanly, allowing it to save its state and release resources properly.\n",
        "\n",
        "      # Replace <PID> with the identified Process ID\n",
        "      kill <PID>\n",
        "\n",
        "- Forced Termination (SIGKILL): If the process does not respond to the SIGTERM signal, a forced termination may be necessary. This sends signal 9 (SIGKILL), which instructs the kernel to terminate the process immediately. This method should be used with caution, as it does not allow the process to perform any cleanup operations, which could potentially lead to data corruption.\n",
        "\n",
        "      # Replace <PID> with the identified Process ID\n",
        "      kill -9 <PID>"
      ],
      "metadata": {
        "id": "TxZ1XAXBZbST"
      }
    },
    {
      "cell_type": "code",
      "execution_count": null,
      "metadata": {
        "id": "DRmbP_CYVerP"
      },
      "outputs": [],
      "source": []
    }
  ]
}