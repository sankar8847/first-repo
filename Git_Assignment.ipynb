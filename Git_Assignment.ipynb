{
  "nbformat": 4,
  "nbformat_minor": 0,
  "metadata": {
    "colab": {
      "provenance": []
    },
    "kernelspec": {
      "name": "python3",
      "display_name": "Python 3"
    },
    "language_info": {
      "name": "python"
    }
  },
  "cells": [
    {
      "cell_type": "markdown",
      "source": [
        "1. First Task\n",
        "\n",
        "Steps:"
      ],
      "metadata": {
        "id": "RtkpFAzqW-TC"
      }
    },
    {
      "cell_type": "code",
      "source": [
        "# a. Create new folder\n",
        "mkdir git-task1 && cd git-task1\n",
        "\n",
        "# b. Put files\n",
        "touch Code.txt Log.txt Output.txt\n",
        "\n",
        "# c. Stage Code.txt and Output.txt\n",
        "git init\n",
        "git add Code.txt Output.txt\n",
        "\n",
        "# d. Commit\n",
        "git commit -m \"Added Code.txt and Output.txt\"\n",
        "\n",
        "# e. Push to GitHub (replace URL with your repo URL)\n",
        "git remote add origin https://github.com/sankar8847/GIT-demo.git\n",
        "git branch -M main\n",
        "git push -u origin main\n"
      ],
      "metadata": {
        "id": "kWf-wU5LXMXo"
      },
      "execution_count": null,
      "outputs": []
    },
    {
      "cell_type": "markdown",
      "source": [
        "2. Second Task\n",
        "\n",
        "Steps:"
      ],
      "metadata": {
        "id": "YgJH-jzHXwcO"
      }
    },
    {
      "cell_type": "code",
      "source": [
        "# 1. Create working directory\n",
        "mkdir git-task2 && cd git-task2\n",
        "git init\n",
        "touch feature1.txt feature2.txt\n",
        "git add .\n",
        "git commit -m \"Initial commit with feature1 and feature2\"\n",
        "\n",
        "# 2. Create 3 branches\n",
        "git branch develop\n",
        "git branch feature1\n",
        "git branch feature2\n",
        "\n",
        "# 3. In develop branch add develop.txt\n",
        "git checkout develop\n",
        "touch develop.txt\n",
        "\n",
        "# 4. Stash file and checkout feature1\n",
        "git stash\n",
        "git checkout feature1\n",
        "\n",
        "# 5. Create new.txt file, stage & commit\n",
        "touch new.txt\n",
        "git add new.txt\n",
        "git commit -m \"Added new.txt in feature1 branch\"\n",
        "\n",
        "# 6. Checkout develop, unstash file and commit\n",
        "git checkout develop\n",
        "git stash pop\n",
        "git add develop.txt\n",
        "git commit -m \"Added develop.txt in develop branch\"\n"
      ],
      "metadata": {
        "id": "DakClTlmebqO"
      },
      "execution_count": null,
      "outputs": []
    },
    {
      "cell_type": "markdown",
      "source": [
        "3. Third Task\n",
        "\n",
        "Steps:"
      ],
      "metadata": {
        "id": "_PCGxn-ofqI-"
      }
    },
    {
      "cell_type": "code",
      "source": [
        "# 1. Create working directory and branches\n",
        "mkdir git-task3 && cd git-task3\n",
        "git init\n",
        "git branch develop\n",
        "git branch f1\n",
        "git branch f2\n",
        "\n",
        "# 2. On master commit main.txt\n",
        "touch main.txt\n",
        "git add main.txt\n",
        "git commit -m \"Added main.txt on master\"\n",
        "\n",
        "# 3. Put develop.txt in develop branch\n",
        "git checkout develop\n",
        "touch develop.txt\n",
        "git add develop.txt\n",
        "git commit -m \"Added develop.txt in develop branch\"\n",
        "\n",
        "# Add f1.txt in f1 branch\n",
        "git checkout f1\n",
        "touch f1.txt\n",
        "git add f1.txt\n",
        "git commit -m \"Added f1.txt in f1 branch\"\n",
        "\n",
        "# Add f2.txt in f2 branch\n",
        "git checkout f2\n",
        "touch f2.txt\n",
        "git add f2.txt\n",
        "git commit -m \"Added f2.txt in f2 branch\"\n",
        "\n",
        "# 4. Push all branches to GitHub\n",
        "git remote add origin https://github.com/sankar8847/GIT-demo.git\n",
        "git push --all\n",
        "\n",
        "# 5. Delete f2 branch locally\n",
        "git branch -d f2\n",
        "\n",
        "# 6. Delete f2 branch on GitHub\n",
        "git push origin --delete f2\n"
      ],
      "metadata": {
        "id": "r-HO77PVjeF7"
      },
      "execution_count": null,
      "outputs": []
    },
    {
      "cell_type": "markdown",
      "source": [
        "4. Fourth Task\n",
        "\n",
        "Steps:"
      ],
      "metadata": {
        "id": "9wVTjvX3jtpD"
      }
    },
    {
      "cell_type": "code",
      "execution_count": null,
      "metadata": {
        "id": "x9JS128MW43R"
      },
      "outputs": [],
      "source": [
        "# 1. On main add master.txt\n",
        "git checkout main\n",
        "touch master.txt\n",
        "git add master.txt\n",
        "git commit -m \"Added master.txt on master branch\"\n",
        "\n",
        "# 2. Create 3 branches\n",
        "git branch public1\n",
        "git branch public2\n",
        "git branch private\n",
        "\n",
        "# 3. Put public1.txt on public1\n",
        "git checkout public1\n",
        "touch public1.txt\n",
        "git add public1.txt\n",
        "git commit -m \"Added public1.txt in public1 branch\"\n",
        "\n",
        "# 4. Merge public1 into main\n",
        "git checkout main\n",
        "git merge public1\n",
        "\n",
        "# 5. Merge public2 into main\n",
        "git checkout public2\n",
        "touch public2.txt\n",
        "git add public2.txt\n",
        "git commit -m \"Added public2.txt in public2 branch\"\n",
        "git checkout master\n",
        "git merge public2\n",
        "\n",
        "# 6. Edit master.txt on private\n",
        "git checkout private\n",
        "echo \"Edited content\" >> master.txt\n",
        "git add master.txt\n",
        "git commit -m \"Edited master.txt in private branch\"\n",
        "\n",
        "# 7. Update public1 & public2 with new main code\n",
        "git checkout public1\n",
        "git merge main\n",
        "\n",
        "git checkout public2\n",
        "git merge main\n",
        "\n",
        "# 8. Update main with new main code in private\n",
        "git checkout main\n",
        "git merge private\n",
        "\n",
        "# 9. Finally update all code on private branch\n",
        "git checkout private\n",
        "git merge main\n"
      ]
    },
    {
      "cell_type": "markdown",
      "source": [
        "5. Fifth Task\n",
        "\n",
        "Steps:"
      ],
      "metadata": {
        "id": "RCiC9gieo4H6"
      }
    },
    {
      "cell_type": "code",
      "source": [
        "# 1. Create repo\n",
        "mkdir git-task5 && cd git-task5\n",
        "git init\n",
        "\n",
        "# 2. Create required branches\n",
        "git branch develop\n",
        "git checkout develop1\n",
        "git branch feature\n",
        "git branch release\n",
        "git branch hotfix\n",
        "\n",
        "# 3. Starting from feature branch, push branch to main\n",
        "git checkout feature\n",
        "touch feature.txt\n",
        "git add feature.txt\n",
        "git commit -m \"Added feature.txt\"\n",
        "git checkout develop1\n",
        "git merge feature\n",
        "git checkout main\n",
        "git merge develop1\n",
        "\n",
        "# 4. Push urgent.txt on main using hotfix\n",
        "git checkout hotfix\n",
        "touch urgent.txt\n",
        "git add urgent.txt\n",
        "git commit -m \"Added urgent.txt via hotfix\"\n",
        "git checkout main\n",
        "git merge hotfix\n"
      ],
      "metadata": {
        "id": "2FwOJxjWj3CD"
      },
      "execution_count": null,
      "outputs": []
    }
  ]
}